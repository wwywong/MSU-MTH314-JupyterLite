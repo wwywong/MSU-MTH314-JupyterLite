{
 "cells": [
  {
   "cell_type": "markdown",
   "id": "a209c6a1",
   "metadata": {},
   "source": [
    "# Dot product and projections"
   ]
  },
  {
   "cell_type": "markdown",
   "id": "46d9e415",
   "metadata": {},
   "source": [
    "## Dot product of vectors"
   ]
  },
  {
   "cell_type": "markdown",
   "id": "87f04e64",
   "metadata": {},
   "source": [
    "Let $\\vec{u},\\vec{v} \\in \\mathbb R^n$ be given by $\\vec{u}=(u_1, \\dots u_n)$ and $\\vec{v}=(v_1, \\dots v_n)$, then their dot product is a scalar, denoted by $\\vec{u}\\cdot \\vec{v}$ and is given by\n",
    "\n",
    "$$\\vec{u}\\cdot \\vec{v} = u_1v_1 + u_2v_2 +\\dots + u_nv_n \\in \\mathbb{R}$$\n",
    "\n",
    "**Definition:** We say $\\vec{u}$ is **orthogonal** to $\\vec{v}$, if $\\vec{u}\\cdot \\vec{v} =0$.\n",
    "\n",
    "**Definition:** Given a vector $\\vec{u}$, the **magnitude** (norm or length) of $u$ is given by $||\\vec{u}|| = \\sqrt{\\vec{u}\\cdot \\vec{u}}= \\sqrt{v_1^2+...+v_n^2}$, if $\\vec{u}=(v_1,v_2....,v_n)$\n",
    "\n",
    "**Definition:** Given vectors $\\vec{u}, \\vec{v} \\in \\mathbb R^n$, the **distance** between $\\vec{u}$ and $\\vec{v}$ is given by $||\\vec{u} -\\vec{v}|| = \\sqrt{(\\vec{u}-\\vec{v})\\cdot (\\vec{u}-\\vec{v})}$."
   ]
  },
  {
   "cell_type": "markdown",
   "id": "9c9de997",
   "metadata": {},
   "source": [
    "<font color='blue'>**Problem (BY HAND)**. Calculate the dot product, if possible, of the following vectors. In case the dot product is defined, find the magnitude of the vectors and their distance and explain why or why not the vectors are orthogonal.\n",
    "\n",
    "<font color='blue'> (a) $\\mathbf{a}=\\begin{bmatrix} 5\\\\2\\\\4 \\end{bmatrix}$ and  $\\mathbf{b}=\\begin{bmatrix} -3\\\\4\\\\-2 \\end{bmatrix}$\n",
    "\n",
    "<font color='blue'> (b) $\\mathbf{a}=\\begin{bmatrix} 5\\\\2\\end{bmatrix}$ and  $\\mathbf{b}=\\begin{bmatrix} -3\\\\4\\\\-2 \\end{bmatrix}$\n",
    " \n",
    "<font color='blue'> (a) $\\mathbf{a}=\\begin{bmatrix} 5\\\\2\\\\4 \\end{bmatrix}$ and  $\\mathbf{b}=\\begin{bmatrix} 2\\\\-5\\\\0 \\end{bmatrix}$\n",
    "    \n",
    "Import a photo of your calculations or type them in latex\n",
    "    "
   ]
  },
  {
   "cell_type": "code",
   "execution_count": null,
   "id": "0d4047b9",
   "metadata": {},
   "outputs": [],
   "source": []
  },
  {
   "cell_type": "markdown",
   "id": "af4833b6",
   "metadata": {},
   "source": [
    "  <font color='blue'>**Example**. Write a function in python that computes the dot product between two vectors (where the vectors are given as lists). "
   ]
  },
  {
   "cell_type": "code",
   "execution_count": null,
   "id": "bc34a39a",
   "metadata": {},
   "outputs": [],
   "source": [
    "def dot_product(u,v):\n",
    "    equal_length= ...\n",
    "    if equal_length:\n",
    "        sum=0\n",
    "        for i in range(len(u)):\n",
    "            sum = \n",
    "        return ...\n",
    "    else:\n",
    "        return print(\"The dot product is not defined with vector of non equal sizes\")"
   ]
  },
  {
   "cell_type": "markdown",
   "id": "31c422f0",
   "metadata": {},
   "source": [
    "<font color='blue'> **Example.** \\\n",
    "(a) Use the function created above to find the dot product of $\\vec{u} = [ 1, 7, 9, 11]$ and $\\vec{v} = [ 7, 1, 2, 2]$. \\\n",
    "(b) Are these vectors orthogonal?"
   ]
  },
  {
   "cell_type": "code",
   "execution_count": null,
   "id": "2702cfe0",
   "metadata": {},
   "outputs": [],
   "source": []
  },
  {
   "cell_type": "markdown",
   "id": "2a8ddda4",
   "metadata": {},
   "source": [
    "### Dot product using numpy arrays.\n",
    "As we have already said arrays is the most natural way to represent vectors in python. Using numpy one can calculate the dot product of two vectors immediately using the build in function from numpy:\n",
    "\n",
    "```\n",
    "import numpy as np\n",
    "u=np.array([1,2.34,5.2,6.4,2])\n",
    "v=np.array([2,3,1.43,-2.3,4.1])\n",
    "print(np.dot(u,v))\n",
    "9.936\n",
    "```"
   ]
  },
  {
   "cell_type": "markdown",
   "id": "76b5f046",
   "metadata": {},
   "source": [
    "<font color='blue'> **Example**. \\\n",
    "(a) Create a function that checks if two vectors are orthogonal, using numpy. \\\n",
    "(b) Check if the vectors $u=[1,2,3,3,2,4,2,4,2,4,3,2,4,5,2,6,8,3,9]$ and $v=[-3,2,-3,-1,5,2,4,7,-5,-7,1,2,3,4,0,1,-2,3,1]$ are orthogonal."
   ]
  },
  {
   "cell_type": "code",
   "execution_count": null,
   "id": "936498e8",
   "metadata": {},
   "outputs": [],
   "source": [
    "import numpy as np\n",
    "\n",
    "def orthogonal(u,v):\n",
    "    # Make the vectors np arrays\n",
    "    u=\n",
    "    v=\n",
    "    if np.dot(u,v)== : \n",
    "        print('The vectors are orthogonal')\n",
    "    else:\n",
    "        print('The vectors are NOT orthogonal')\n",
    "        "
   ]
  },
  {
   "cell_type": "markdown",
   "id": "43747f71",
   "metadata": {},
   "source": [
    "#### Magnitude of a vector"
   ]
  },
  {
   "cell_type": "markdown",
   "id": "1f731daa",
   "metadata": {},
   "source": [
    "<font color='blue'> **Example**.  \\\n",
    "(a) Create a function that calculates the magnitude of a vector (when the vector is given as a list). Hint: Use the dot_product function and the square root function.\\\n",
    "(b) What is the magnitude of the vector $u=[2.32,-1.94,2.22]$?"
   ]
  },
  {
   "cell_type": "code",
   "execution_count": null,
   "id": "7895f767",
   "metadata": {},
   "outputs": [],
   "source": [
    "def magnitude(u):\n",
    "    u=np.array(u)\n",
    "    return math.sqrt(...)"
   ]
  },
  {
   "cell_type": "code",
   "execution_count": null,
   "id": "9222725e",
   "metadata": {},
   "outputs": [],
   "source": []
  },
  {
   "cell_type": "markdown",
   "id": "e8eebb56",
   "metadata": {},
   "source": [
    "For arrays there is a build in function to calculate the magnitude of the vector.\n",
    "\n",
    "```\n",
    "v=np.array([3,2,2])\n",
    "print(np.linalg.norm(v))\n",
    "4.123105625617661\n",
    "```\n",
    "<font color='blue'>**Example**. Use this command to find the magnitude of the vector  $u=[2.32,-1.94,2.22]$."
   ]
  },
  {
   "cell_type": "code",
   "execution_count": null,
   "id": "86678fe0",
   "metadata": {},
   "outputs": [],
   "source": [
    "# put your answer here"
   ]
  },
  {
   "cell_type": "markdown",
   "id": "120b7c6c",
   "metadata": {},
   "source": [
    "# Projections"
   ]
  },
  {
   "cell_type": "markdown",
   "id": "6acb5861",
   "metadata": {},
   "source": [
    "\n",
    "The **(orthogonal) projection** of the vector $v$ onto the vector $u$ is given by\n",
    "$$\\mbox{proj}_u v = \\frac{v \\cdot u}{u \\cdot u} u.$$\n",
    "\n",
    "The vector $v-\\mbox{proj}_u v$ is **orthogonal** to $u$."
   ]
  },
  {
   "cell_type": "markdown",
   "id": "7e2c94d7",
   "metadata": {},
   "source": [
    "<font color=blue> **(BY HAND)**. Calculate the projection of the vector $v=(2,5)$ onto $u=(3,4)$ and import your calculations (photo or latex)"
   ]
  },
  {
   "cell_type": "code",
   "execution_count": null,
   "id": "14f26886",
   "metadata": {},
   "outputs": [],
   "source": [
    "#Put your answer here"
   ]
  },
  {
   "cell_type": "markdown",
   "id": "8224a1ef",
   "metadata": {},
   "source": [
    "<font color=blue>How does the above formula simplify if the vector $u$ is normal (has lenght 1)?"
   ]
  },
  {
   "cell_type": "code",
   "execution_count": null,
   "id": "bc72e31a",
   "metadata": {},
   "outputs": [],
   "source": [
    "#Put your answer here"
   ]
  },
  {
   "cell_type": "markdown",
   "id": "b10622f6",
   "metadata": {},
   "source": [
    "<font color=blue>If the vector $v$ is orthogonal to $u$, what is $\\mbox{proj}_u v$? "
   ]
  },
  {
   "cell_type": "code",
   "execution_count": null,
   "id": "356fcd67",
   "metadata": {},
   "outputs": [],
   "source": [
    "#Put your answer here"
   ]
  },
  {
   "cell_type": "markdown",
   "id": "c1d3973f",
   "metadata": {},
   "source": [
    " <font color=blue>If $v$ is a parallel to $u$, what is $\\mbox{proj}_u v$?"
   ]
  },
  {
   "cell_type": "code",
   "execution_count": null,
   "id": "c845616b",
   "metadata": {},
   "outputs": [],
   "source": [
    "#Put your answer here"
   ]
  },
  {
   "cell_type": "markdown",
   "id": "51b456b0",
   "metadata": {},
   "source": [
    "### Projection function\n",
    "\n",
    "**<font color=red>DO THIS:</font>** Write a function that projects vector $v$ onto vector $u$. \n",
    "**Do not use the numpy library.** \n",
    "\n",
    "\n",
    "Make sure this function will work for any size of $v$ and $u$."
   ]
  },
  {
   "cell_type": "code",
   "execution_count": null,
   "id": "207f7817",
   "metadata": {},
   "outputs": [],
   "source": [
    "def proj(v,u):\n",
    "    \n",
    "    return ..."
   ]
  },
  {
   "cell_type": "markdown",
   "id": "f59d1ca4",
   "metadata": {},
   "source": [
    "Now, calculate a vector that is orthogonal to $\\mbox{proj}_u v$."
   ]
  },
  {
   "cell_type": "code",
   "execution_count": null,
   "id": "402e0e08",
   "metadata": {},
   "outputs": [],
   "source": [
    "def orth(v,u):\n",
    "    \n",
    "    return ..."
   ]
  },
  {
   "cell_type": "markdown",
   "id": "cc1b1872",
   "metadata": {},
   "source": [
    "Let's test your functions. Below there are two example vectors. Find the projection of v onto u and a vector othogonal to u. Note that the order of variables in your function `proj(.,.)` matters! Make sure you get the correct answers. "
   ]
  },
  {
   "cell_type": "code",
   "execution_count": null,
   "id": "8747677a",
   "metadata": {},
   "outputs": [],
   "source": [
    "u = [1,2,0,3]\n",
    "v = [4,0,5,8]\n",
    "print(proj(...))\n",
    "print(orth(...))"
   ]
  },
  {
   "cell_type": "markdown",
   "id": "a85bc0ea",
   "metadata": {},
   "source": [
    "Now let's simplify these calculations using different libraries:\n",
    "\n",
    "```\n",
    "import numpy as np\n",
    "u = np.array([...])\n",
    "v = np.array([...])\n",
    "proj = np.dot(v,u)/np.dot(u,u)*u\n",
    "```\n"
   ]
  },
  {
   "cell_type": "markdown",
   "id": "65a20cfc",
   "metadata": {},
   "source": [
    "**<font color=red>DO THIS:</font>** Write a function that projects vector $v$ onto vector $u$. Now use Numpy library."
   ]
  },
  {
   "cell_type": "code",
   "execution_count": null,
   "id": "efd995a8",
   "metadata": {},
   "outputs": [],
   "source": [
    "import numpy as np\n",
    "def projection(v,u):\n",
    "    u=np.array(u)\n",
    "    v=\n",
    "    if len(u)==... :\n",
    "        return ...\n",
    "    else:\n",
    "        print('The vectors are not of equal dimension')"
   ]
  },
  {
   "cell_type": "markdown",
   "id": "d5aec26c",
   "metadata": {},
   "source": [
    "Test it and compare it with the function ```proj(v,u)``` with the vectors $u = [1,2,0,3]$ and $v = [4,0,5,8]$"
   ]
  },
  {
   "cell_type": "code",
   "execution_count": null,
   "id": "ce38d6b0",
   "metadata": {},
   "outputs": [],
   "source": [
    "u = [1,2,0,3]\n",
    "v = [4,0,5,8]\n",
    "projection(...)"
   ]
  },
  {
   "cell_type": "code",
   "execution_count": null,
   "id": "bdd24aa2",
   "metadata": {},
   "outputs": [],
   "source": [
    "u=[0,0,0]\n",
    "v=[1,1,1]\n",
    "projection(...)"
   ]
  },
  {
   "cell_type": "markdown",
   "id": "835d995c",
   "metadata": {},
   "source": [
    "### Visualizing projections\n",
    "\n",
    "**<font color=red>DO THIS:</font>** See if you can design and implement a small function that takes two vectors ($a$ and $b$) as inputs and generates a figure similar to the one below.\n",
    "\n",
    "<img alt=\"Graph showing how one vector can be projected onto another vector by forming a right triangle\" src=\"https://upload.wikimedia.org/wikipedia/commons/9/98/Projection_and_rejection.png\" width=\"25%\">\n",
    "\n",
    "I.e. a black line from the origin to \"$b$\", a black line from origin to \"$a$\"; a green line showing the \"$a$\" component in the \"$b$\" direction and a red line showing the \"$a$\" component orthogonal to the green line. \n",
    "\n",
    "Remember that calling `plt.arrow(x,y,dx,dy)` draws an arrow from `(x,y)` to `(x+dx,y+dy)`.\n",
    "\n",
    "Don't worry about labeling the vectors. Just make sure the green and red vectors are drawn correctly."
   ]
  },
  {
   "cell_type": "code",
   "execution_count": null,
   "id": "d6edf505",
   "metadata": {},
   "outputs": [],
   "source": [
    "%matplotlib inline\n",
    "import matplotlib.pylab as plt\n",
    "\n",
    "b = [5,3]\n",
    "a = [2,4]\n",
    "\n",
    "def show_projection(a,b):\n",
    "    plt.arrow(0,0,a[0],a[1],color='black',head_width=0.1,length_includes_head=True)\n",
    "    plt.arrow(0,0,b[0],b[1],color='black',head_width=0.1,length_includes_head=True)\n",
    "    plt.annotate('a',a)\n",
    "    plt.annotate('b',b)\n",
    "    \n",
    "# Compute the projection of a onto b, and the component of a that is perpendicular to b.\n",
    "    a1 = projection(...)\n",
    "    a2 = ...\n",
    "\n",
    "\n",
    "# Then draw arrows representing those vectors\n",
    "    plt.arrow(0,0,a1[0],a1[1],color='green',head_width=0.1,length_includes_head=True)\n",
    "    plt.arrow(a1[0],a1[1],a2[0],a2[1],color='red',head_width=0.1,length_includes_head=True)\n",
    "\n",
    "    plt.axis('equal')\n",
    "    \n",
    "show_projection(a,b) ;"
   ]
  }
 ],
 "metadata": {
  "kernelspec": {
   "display_name": "Python 3 (ipykernel)",
   "language": "python",
   "name": "python3"
  },
  "language_info": {
   "codemirror_mode": {
    "name": "ipython",
    "version": 3
   },
   "file_extension": ".py",
   "mimetype": "text/x-python",
   "name": "python",
   "nbconvert_exporter": "python",
   "pygments_lexer": "ipython3",
   "version": "3.11.5"
  }
 },
 "nbformat": 4,
 "nbformat_minor": 5
}
