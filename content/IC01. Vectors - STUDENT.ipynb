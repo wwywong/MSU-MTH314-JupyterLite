{
 "cells": [
  {
   "cell_type": "markdown",
   "id": "48db66cd",
   "metadata": {},
   "source": [
    "# Vectors\n",
    "The first concept we deal with in Linear Algebra are vectors. \n",
    "#### Goals\n",
    "- Define vectors in python as lists.\n",
    "- Define vectors in python as numpy arrays.\n",
    "- Understand the differences among the definitions.\n",
    "- Learn how to perform vector operations with both definitions.\n",
    "- Create functions to calculate length, sum, and scalar product of vectors.\n"
   ]
  },
  {
   "cell_type": "markdown",
   "id": "5a8ca149",
   "metadata": {},
   "source": [
    "<font color='blue'> **Problem (BY HAND)** . Let $\\mathbf{a}=\\begin{bmatrix} 5\\\\2\\\\4 \\end{bmatrix}$ and  $\\mathbf{b}=\\begin{bmatrix} -3\\\\4\\\\-2 \\end{bmatrix}$. Calculate BY HAND the following vectors: $\\mathbf{a}-2\\mathbf{b}$, $\\mathbf{b}-2\\mathbf{a}$, $\\frac{3}{2}\\mathbf{a}-5\\mathbf{b}$\n",
    "\n",
    "Please post a photo of your calculation here: Create a new cell right below this one and change it from Code to Markdown. Then drag the photo from your computer with your hand written calculations. \n",
    "\n",
    "OR \n",
    "\n",
    "Go to `Edit > Insert Image`.\n",
    "    \n",
    "OR \n",
    "\n",
    "`<img src=\"image.png\" width=\"600px\">` (adjust size to your needs)\n",
    "\n",
    "The first two methods work well, however, you cannot customize the size or other embedding properties of the image. The last command allows you to customize the size and other properties. However, it does not work well, if you download the file as an .html file.  \n",
    "    \n",
    "Another way to do this, but more time consuming, is to type in latex in the Markdown cell."
   ]
  },
  {
   "cell_type": "code",
   "execution_count": null,
   "id": "3ac571be",
   "metadata": {},
   "outputs": [],
   "source": []
  },
  {
   "cell_type": "markdown",
   "id": "c27207b3",
   "metadata": {},
   "source": [
    "<font color='blue'> **Example**. Create two lists and add them together."
   ]
  },
  {
   "cell_type": "code",
   "execution_count": null,
   "id": "60cfc999",
   "metadata": {},
   "outputs": [],
   "source": [
    "#Remove the dots for your answer.\n",
    "list1=[..]\n",
    "list2=[..]\n",
    "#Add the two lists in the new_list.\n",
    "new_list=    +\n",
    "#Print the new list.\n",
    "\n",
    "#What happens if we do not add any elements and leave only the brackets there?"
   ]
  },
  {
   "cell_type": "markdown",
   "id": "7cfc662d",
   "metadata": {},
   "source": [
    "<font color='blue'> **Question**. Is this what we expected from adding **vectors**?"
   ]
  },
  {
   "cell_type": "code",
   "execution_count": null,
   "id": "1a9a0b76",
   "metadata": {
    "scrolled": true
   },
   "outputs": [],
   "source": []
  },
  {
   "cell_type": "markdown",
   "id": "0f2ce932",
   "metadata": {},
   "source": [
    "#### Adding lists to act as vectors\n",
    "If we want to represent lists as vectors then the classic addition does not work. \n",
    "As we saw in indexing, each coordinate of a vector (each element of a list) can be accessed by using the square brackets and the coordinate you want. i.e.\n",
    "```\n",
    "v=[1,2,-5.4,7.2,8.8,-4,-5]\n",
    "print(v[5])\n",
    "-4\n",
    "```\n",
    "So v[5] will access the 6th element in the list (remember we start counting at 0).\n",
    "We can use that to add two coordinates together.\n",
    "```\n",
    "v1=[1,3,5]\n",
    "v2=[3,-2,1]\n",
    "print(v1[1]+v2[1])\n",
    "1\n",
    "```\n",
    "But what we want is the two list to get together in one new list/vector. Two ways to do this are the following:\n",
    "\n",
    "1st. \n",
    "```\n",
    "v1=[1,3,5]\n",
    "v2=[3,-2,1]\n",
    "v=[]\n",
    "for i in range(len(v1)):\n",
    "    v.append(v1[i]+v2[i])\n",
    "```\n",
    "2nd. \n",
    "```\n",
    "v=[v1[i]+v2[i] for i in range(len(v1)]\n",
    "```\n",
    "In both cases, for this to work, we need the vectors to have the same length."
   ]
  },
  {
   "cell_type": "markdown",
   "id": "dac1e08b",
   "metadata": {},
   "source": [
    " <font color='blue'> **Example**. Complete the following function so that it checks if two vectors have the same number of coordinates (list length). Remember that the length of a list is given by `len(list)`."
   ]
  },
  {
   "cell_type": "code",
   "execution_count": null,
   "id": "b74b702d",
   "metadata": {},
   "outputs": [],
   "source": [
    "def vector_length_equality(v1,v2):\n",
    "    are_of_equal_length = \n",
    "    return are_of_equal_length  "
   ]
  },
  {
   "cell_type": "markdown",
   "id": "6576bb4b",
   "metadata": {},
   "source": [
    "####  Creating functions for adding vectors."
   ]
  },
  {
   "cell_type": "markdown",
   "id": "69bcc5c9",
   "metadata": {},
   "source": [
    "Of course checking if two vectors have the same number of coordinates is essential on whether we can add them or not.\n",
    "\n",
    "<font color='blue'> **Example**. Complete the function below to do the following:\n",
    "- <font color='blue'>Check if the two vectors have the same number of coordinates.\n",
    "- <font color='blue'>If they do, return their sum.\n",
    "- <font color='blue'>If they do not, return a message saying \"Addition cannot be performed in such vectors\"."
   ]
  },
  {
   "cell_type": "code",
   "execution_count": null,
   "id": "25b00337",
   "metadata": {},
   "outputs": [],
   "source": [
    "#Remove the .. for your answer.\n",
    "def vector_addition(v1,v2):\n",
    "    equal_length = ....\n",
    "    if equal_length:\n",
    "        v=[... for i in range(len(v1))]\n",
    "        return ...\n",
    "    else:\n",
    "        return ..."
   ]
  },
  {
   "cell_type": "markdown",
   "id": "0d003ec1",
   "metadata": {},
   "source": [
    "<font color='blue'> **Example**. Apply the function to the following pairs of vectors.\n",
    "- <font color='blue'>v1=[0, 9, 4, 0, 8], v2=[9, -1, 10, -2, 10, -3, -9, 2]\n",
    "- <font color='blue'>v1=[-1, 2, 5], v2=[1, -7, 8]\n",
    "- <font color='blue'>v1=[3, 6, 0, 2, -3, 4], v2=[4, 8, -7, -1, -2, -2]\n",
    "- <font color='blue'>v1=[-8, -6, 0, 3, -5], v2=[5, 1]\n",
    "- <font color='blue'>v1=[-7, 10, 3, 2, 3, 5, 9, 9], v2=[9, 2, 1, 6, 3]\n"
   ]
  },
  {
   "cell_type": "code",
   "execution_count": 1,
   "id": "c1225361",
   "metadata": {},
   "outputs": [],
   "source": [
    "#Use the function vector_addition and print your answers.\n"
   ]
  },
  {
   "cell_type": "markdown",
   "id": "c3477ab1",
   "metadata": {},
   "source": [
    "#### Conclusions so far\n",
    "\n",
    "- Lists can be used to store any type of data, including other lists.\n",
    "- You can add elements to a list using the function `append()`.\n",
    "- The length of a list is different than the length of a vector (which we will study later).\n",
    "- If you add two lists together using the `+` operator, Python will concatenate them into a single list.\n",
    "- Lists are not a good representation of vectors in Python. Even though we can get around the list addition with the function we created, we would like to just write `v1+v2` to get the sum of our vectors. For the vector length things are even worse. This is obviously not what we want when we have in our mind addition of vectors and as we shall see later it's not suitable for the rest operations. So, while they are very useful and we can use them in several applications (and we will) **lists are not suitable for representing vectors in python**."
   ]
  },
  {
   "cell_type": "markdown",
   "id": "fbea4800",
   "metadata": {},
   "source": [
    "### Using NumPy Arrays to Represent Vectors\n",
    "\n",
    "Let's try it. First we need to import numpy:\n",
    "\n"
   ]
  },
  {
   "cell_type": "code",
   "execution_count": null,
   "id": "db0d71e5",
   "metadata": {},
   "outputs": [],
   "source": [
    "import numpy as np"
   ]
  },
  {
   "cell_type": "markdown",
   "id": "a480b8ff",
   "metadata": {},
   "source": [
    "#### Creating vectors\n",
    "To create vectors using numpy, we use the np.array **method**."
   ]
  },
  {
   "cell_type": "code",
   "execution_count": null,
   "id": "09e5f813",
   "metadata": {},
   "outputs": [],
   "source": [
    "v1=np.array([1,2,3])\n",
    "v2=np.array([3,5,6])\n",
    "print(v1)\n",
    "print(v2)"
   ]
  },
  {
   "cell_type": "markdown",
   "id": "1832bc6c",
   "metadata": {},
   "source": [
    "#### Vector addition\n",
    "Now, vector addition works the way we would like it to work."
   ]
  },
  {
   "cell_type": "code",
   "execution_count": null,
   "id": "e4b455f5",
   "metadata": {},
   "outputs": [],
   "source": [
    "v1=np.array([1,3,1])\n",
    "v2=np.array([-2,4,3])\n",
    "v=v1+v2\n",
    "print(...)"
   ]
  },
  {
   "cell_type": "markdown",
   "id": "fb3c7aa0",
   "metadata": {},
   "source": [
    "<font color='blue'> **Example**. Create two vectors (two numpy arrays) and add them together."
   ]
  },
  {
   "cell_type": "code",
   "execution_count": null,
   "id": "44e61908",
   "metadata": {},
   "outputs": [],
   "source": [
    "#Your two vectors.\n",
    "v1\n",
    "v2\n",
    "#Add them together.\n",
    "v=\n",
    "#Print the result\n"
   ]
  },
  {
   "cell_type": "markdown",
   "id": "09164d81",
   "metadata": {},
   "source": [
    "#### Scalars\n",
    "We have scalar multiplication of a vector with a real number $a\\in \\mathbb{R}$. In python a scalar is different from a 1-element list (or array). Nevertheless scalar multiplication works the way it should independent of whether we have a number, or a 1-element list."
   ]
  },
  {
   "cell_type": "code",
   "execution_count": null,
   "id": "c3a9ed29",
   "metadata": {},
   "outputs": [],
   "source": [
    "x=2.4\n",
    "y=[2.4]\n",
    "#The following is python's way to check if two elements are the same. \n",
    "#The return of such equality is true or false.\n",
    "x==y"
   ]
  },
  {
   "cell_type": "markdown",
   "id": "dbfa8ba5",
   "metadata": {},
   "source": [
    "#### Scalar Multiplication\n",
    "Python does not understand `2.4` being the same as `[2.4]` (and rightly it does not) but both of them work the same if we want to multiply it with a numpy array."
   ]
  },
  {
   "cell_type": "code",
   "execution_count": null,
   "id": "14da1800",
   "metadata": {},
   "outputs": [],
   "source": [
    "#Multiplying with x or y produces the same result for the array.\n",
    "v=np.array([2,3,4])\n",
    "print(f\"multyiplying the vector with the number x: {v*x}\")\n",
    "print(f\"multyiplying the vector with the list y: {v*y}\")"
   ]
  },
  {
   "cell_type": "markdown",
   "id": "4c11c075",
   "metadata": {},
   "source": [
    "<font color='blue'> **Example**. For the following vector do the following:\n",
    "1. <font color='blue'>  Multiply the vector by a factor of your choice.\n",
    "2. <font color='blue'>  Print all the elements from the new vector one by one."
   ]
  },
  {
   "cell_type": "code",
   "execution_count": null,
   "id": "88333d0f",
   "metadata": {
    "scrolled": true
   },
   "outputs": [],
   "source": [
    "v=np.array([2,1.1,3.5,2.79,3.12])\n",
    "#Multiply the vector by x; the factor you choose.\n",
    "x=...\n",
    "v=...\n",
    "#Print all the elements of the vector.\n",
    "for .... :\n",
    "    print(f\"Printing coordinate {i} of the vector v: {v[i]}\")"
   ]
  },
  {
   "cell_type": "markdown",
   "id": "0ccb5df5",
   "metadata": {},
   "source": [
    "#### A few examples to wrap up this section\n",
    "\n",
    "Use any part of code we introduced here to answer the following questions."
   ]
  },
  {
   "cell_type": "markdown",
   "id": "80aa6175",
   "metadata": {},
   "source": [
    "<font color='blue'> **Example**. Create two vectors $v_1,v_2$ of  list length 200 (i.e. $len(v_1)=len(v_2)=200$) and add them together."
   ]
  },
  {
   "cell_type": "code",
   "execution_count": null,
   "id": "b7c67256",
   "metadata": {},
   "outputs": [],
   "source": [
    "v1= \n",
    "v2= \n",
    "v1+v2"
   ]
  },
  {
   "cell_type": "markdown",
   "id": "5bd939bb",
   "metadata": {},
   "source": [
    "<font color='blue'> **Example**. Create a function that will get two vectors (lists or arrays) and it returns:\\\n",
    "    - The sum of the vectors if possible.\\\n",
    "    - A message saying the sum cannot be performed if the sum is not possible. \n",
    "    "
   ]
  },
  {
   "cell_type": "code",
   "execution_count": null,
   "id": "3a87a327",
   "metadata": {},
   "outputs": [],
   "source": [
    "def add(v1,v2):\n",
    "    #Change the vectors to np.arrays\n",
    "    v1=\n",
    "    v2=\n",
    "    equal_length = \n",
    "    if equal_length:\n",
    "        return ...\n",
    "    else:\n",
    "        ...."
   ]
  },
  {
   "cell_type": "markdown",
   "id": "ca52dba2",
   "metadata": {},
   "source": [
    "<font color='blue'> Test the function you created with the following vectors:\\\n",
    "$ v_1=[0, 9, 4, 0, 8], v_2=[9, -1, 10, -2, 10, -3, -9, 2]$ \\\n",
    "$ v_1=[-1, 2, 5], v_2=[1, -7, 8] $"
   ]
  },
  {
   "cell_type": "code",
   "execution_count": null,
   "id": "c2dc7b40",
   "metadata": {},
   "outputs": [],
   "source": []
  },
  {
   "cell_type": "markdown",
   "id": "7e0c1690",
   "metadata": {},
   "source": [
    "<font color='blue'> **Problem (BY HAND)** Let $\\mathbf{a}=\\begin{bmatrix} 5\\\\-2\\\\4 \\end{bmatrix}$ and  $\\mathbf{b}=\\begin{bmatrix} -3\\\\2\\\\-1 \\end{bmatrix}$. Write down a linear combination of the two vectors and then write this linear combination as a product of a matrix $A$ and a vector $\\mathbf{x}$. "
   ]
  },
  {
   "cell_type": "code",
   "execution_count": null,
   "id": "6fcfb2d4",
   "metadata": {},
   "outputs": [],
   "source": []
  },
  {
   "cell_type": "markdown",
   "id": "fe6be902",
   "metadata": {},
   "source": [
    "#### Visualization Exercise: Below there is a piece of code that makes an interactive graph of two vectors `v1 = [2, 3]` and `v2 = [1, -1]` along with their linear combinations."
   ]
  },
  {
   "cell_type": "code",
   "execution_count": 1,
   "id": "11dd120c",
   "metadata": {},
   "outputs": [
    {
     "data": {
      "application/vnd.jupyter.widget-view+json": {
       "model_id": "3d16fadd068c4e49a61661298331f9fe",
       "version_major": 2,
       "version_minor": 0
      },
      "text/plain": [
       "interactive(children=(IntSlider(value=0, description='c1', max=5, min=-5), IntSlider(value=0, description='c2'…"
      ]
     },
     "metadata": {},
     "output_type": "display_data"
    },
    {
     "data": {
      "text/plain": [
       "<function __main__.plot_linear_combination(c1, c2)>"
      ]
     },
     "execution_count": 1,
     "metadata": {},
     "output_type": "execute_result"
    }
   ],
   "source": [
    "import numpy as np\n",
    "import matplotlib.pyplot as plt\n",
    "from ipywidgets import interact\n",
    "\n",
    "# Define two vectors\n",
    "v1 = ...\n",
    "v2 = ...\n",
    "\n",
    "def plot_linear_combination(c1, c2):\n",
    "    plt.figure(figsize=(6, 6))\n",
    "\n",
    "    # Define the linear combination\n",
    "    result = c1 * v1 + c2 * v2\n",
    "\n",
    "    # Plot the vectors\n",
    "    plt.quiver(0, 0, v1[0], v1[1], angles='xy', scale_units='xy', scale=1, color='b', label='v1')\n",
    "    plt.quiver(0, 0, v2[0], v2[1], angles='xy', scale_units='xy', scale=1, color='r', label='v2')\n",
    "    plt.quiver(0, 0, result[0], result[1], angles='xy', scale_units='xy', scale=1, color='g', label='Linear Combination')\n",
    "\n",
    "    plt.xlim(-10, 10)\n",
    "    plt.ylim(-10, 10)\n",
    "    plt.axhline(0, color='black',linewidth=0.5)\n",
    "    plt.axvline(0, color='black',linewidth=0.5)\n",
    "    plt.grid()\n",
    "    plt.legend()\n",
    "    plt.show()\n",
    "\n",
    "# Create an interactive widget\n",
    "interact(plot_linear_combination, c1=(-5,5,1), c2=(-5,5,1))\n"
   ]
  },
  {
   "cell_type": "markdown",
   "id": "3c02dfc9",
   "metadata": {},
   "source": [
    "<font color='blue'> Explore different linear combinations by using the slider for `c1` and `c2` above. Do you ever get the vector [0,5] in your investigation? If so, for what values of c1 and c2? Answer in the next cell."
   ]
  },
  {
   "cell_type": "markdown",
   "id": "eab9935b",
   "metadata": {},
   "source": []
  },
  {
   "cell_type": "markdown",
   "id": "f7ae1b87",
   "metadata": {},
   "source": [
    "## Before you close or submit this In-Class Assignment, please make sure of a few things:\n",
    "- Did you save the file? `Ctrl + S` like everything else works!\n",
    "- Is the file in correct format? You need to submit this file in `.pdf` format. To do so, `Ctrl + P` and `Save as pdf` (on Windows) or `command + P` in mac.\n",
    "- If that does not work, please Google \"ipynb to pdf converter\" and that should do the job.\n",
    "- Are the pictures/images rendering correctly in the `.pdf` format?\n",
    "- If the images are not rendering, you could also use this command in a cell:\n",
    "\n",
    "`from IPython.display import display, Image`\n",
    "\n",
    "`display(Image(filename=\"a.jpg\", height=400, width=400))`\n",
    "\n",
    "THIS ONLY WORKS WITH JPGS.\n",
    "\n",
    "- Please double check the contents of the file. One of the most common errors students make is submission of an empty file."
   ]
  }
 ],
 "metadata": {
  "kernelspec": {
   "display_name": "Python 3 (ipykernel)",
   "language": "python",
   "name": "python3"
  },
  "language_info": {
   "codemirror_mode": {
    "name": "ipython",
    "version": 3
   },
   "file_extension": ".py",
   "mimetype": "text/x-python",
   "name": "python",
   "nbconvert_exporter": "python",
   "pygments_lexer": "ipython3",
   "version": "3.11.5"
  },
  "varInspector": {
   "cols": {
    "lenName": 16,
    "lenType": 16,
    "lenVar": 40
   },
   "kernels_config": {
    "python": {
     "delete_cmd_postfix": "",
     "delete_cmd_prefix": "del ",
     "library": "var_list.py",
     "varRefreshCmd": "print(var_dic_list())"
    },
    "r": {
     "delete_cmd_postfix": ") ",
     "delete_cmd_prefix": "rm(",
     "library": "var_list.r",
     "varRefreshCmd": "cat(var_dic_list()) "
    }
   },
   "types_to_exclude": [
    "module",
    "function",
    "builtin_function_or_method",
    "instance",
    "_Feature"
   ],
   "window_display": false
  }
 },
 "nbformat": 4,
 "nbformat_minor": 5
}
