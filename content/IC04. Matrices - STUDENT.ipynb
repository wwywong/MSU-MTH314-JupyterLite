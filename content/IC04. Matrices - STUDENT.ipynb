{
 "cells": [
  {
   "cell_type": "markdown",
   "id": "a209c6a1",
   "metadata": {},
   "source": [
    "# Matrices"
   ]
  },
  {
   "cell_type": "markdown",
   "id": "1803cc27",
   "metadata": {},
   "source": [
    "## 1. Matrix multiplication\n",
    "We defined matrix multiplication in class. While it's easier to represent vectors using np.arrays rather than lists, it is completely essential to do so when we get in matrices. It is very hard to deal with matrix multiplication if you define the matrices using lists. On the other hand, there are build in functions for matrix multiplication if you use numpy arrays."
   ]
  },
  {
   "cell_type": "markdown",
   "id": "c56e689f",
   "metadata": {},
   "source": [
    "<font color=blue> **Question**. What is the size of the matrix resulting from multiplying a $10 \\times 40$ matrix with a $40 \\times 3$ matrix?"
   ]
  },
  {
   "cell_type": "code",
   "execution_count": null,
   "id": "8466452d",
   "metadata": {},
   "outputs": [],
   "source": [
    "#put your answer here"
   ]
  },
  {
   "cell_type": "markdown",
   "id": "4d1bc725",
   "metadata": {},
   "source": [
    "<img src=\"https://www.mathsisfun.com/algebra/images/matrix-multiply-a.svg\" >"
   ]
  },
  {
   "cell_type": "markdown",
   "id": "8850513f",
   "metadata": {},
   "source": [
    "<font color=blue>**Problem (BY HAND)**. (a) Complete the rest of the elements of the matrix in the picture."
   ]
  },
  {
   "cell_type": "code",
   "execution_count": null,
   "id": "9dd225e1",
   "metadata": {},
   "outputs": [],
   "source": [
    "# put the completed matrix"
   ]
  },
  {
   "cell_type": "markdown",
   "id": "124b4abf",
   "metadata": {},
   "source": [
    "<font color=blue> (b) Calculate the products $AB, AC, BC, BA, CA$, if it is possible. \n",
    "    $$\n",
    "    A=\\begin{bmatrix} 1&-2&-1\\\\ 5&-1&3\\\\1&0&-1 \\end{bmatrix}\\quad B=\\begin{bmatrix} 1&-1&-1&0\\\\ -3&1&4&-2\\\\1&0&-1 &2\\end{bmatrix} \\quad C=\\begin{bmatrix} -1&3&0\\\\ -5&4&1\\\\0&6&-1 \\end{bmatrix}\n",
    "    $$\n",
    "Does the order of multiplication matter?"
   ]
  },
  {
   "cell_type": "markdown",
   "id": "d53552da",
   "metadata": {},
   "source": [
    "Import the photo of the calculations here or type in Latex"
   ]
  },
  {
   "cell_type": "code",
   "execution_count": null,
   "id": "a22b29b2",
   "metadata": {},
   "outputs": [],
   "source": []
  },
  {
   "cell_type": "markdown",
   "id": "d1866362",
   "metadata": {},
   "source": [
    "Now we are going to use ```numpy``` to do the matrix multiplication. First, we need to import the numpy and sympy classes. Sympy will be used for a nice representation when we print the matrices.\n",
    "\n",
    "```\n",
    "sym.Matrix(np.matmul(A,B))\n",
    "\n",
    "```\n",
    "OR\n",
    "\n",
    "```\n",
    "A@B\n",
    "\n",
    "```\n"
   ]
  },
  {
   "cell_type": "code",
   "execution_count": null,
   "id": "9b09ac33",
   "metadata": {},
   "outputs": [],
   "source": [
    "import numpy as np\n",
    "import sympy as sym"
   ]
  },
  {
   "cell_type": "code",
   "execution_count": null,
   "id": "f5b79bf4",
   "metadata": {},
   "outputs": [],
   "source": [
    "A = np.array([[1,2,3], [4,5,6]])\n",
    "sym.Matrix(A)"
   ]
  },
  {
   "cell_type": "code",
   "execution_count": null,
   "id": "ca2cfacf",
   "metadata": {},
   "outputs": [],
   "source": [
    "B = np.array([[7,8], [9,10], [11,12]])\n",
    "sym.Matrix(B)"
   ]
  },
  {
   "cell_type": "markdown",
   "id": "07035c41",
   "metadata": {},
   "source": [
    "Try the above two ways to find the matrix $AB$."
   ]
  },
  {
   "cell_type": "code",
   "execution_count": null,
   "id": "484bcdeb",
   "metadata": {},
   "outputs": [],
   "source": [
    "# sym"
   ]
  },
  {
   "cell_type": "code",
   "execution_count": null,
   "id": "2e537c9c",
   "metadata": {},
   "outputs": [],
   "source": [
    "# @"
   ]
  },
  {
   "cell_type": "markdown",
   "id": "22b100d8",
   "metadata": {},
   "source": [
    "<font color=blue>**Example**. Given two matrices; $A$ and $B$, show that order matters when doing a matrix multiplication. That is, $AB \\neq BA$, in general. \n",
    "Show this with an example by using two $3\\times 3$ matrices and ```numpy```."
   ]
  },
  {
   "cell_type": "code",
   "execution_count": null,
   "id": "4d43da75",
   "metadata": {},
   "outputs": [],
   "source": [
    "# put your matrices here\n",
    "A1=\n",
    "A2="
   ]
  },
  {
   "cell_type": "code",
   "execution_count": null,
   "id": "8fac71c8",
   "metadata": {},
   "outputs": [],
   "source": [
    "sym.Matrix(np.matmul(...))"
   ]
  },
  {
   "cell_type": "code",
   "execution_count": null,
   "id": "fa273136",
   "metadata": {},
   "outputs": [],
   "source": [
    "sym.Matrix(...(A2,A1))"
   ]
  },
  {
   "cell_type": "markdown",
   "id": "78b0d215",
   "metadata": {},
   "source": [
    "Recall that if $A$ is $n\\times d$ and $B$ is $d\\times m$, then if $C=A\\cdot B$ will be $n\\times m$.\n",
    "  \n",
    "_**The $(i,j)$ element in $C$ is the dot product of the $i$th row of $A$ and the $j$th column of $B$.**_\n",
    "\n",
    "The $i$th row of $A$ is:\n",
    "$ [ a_{i1},  a_{i2},  \\dots , a_{id} ],$\n",
    "\n",
    "and the $j$th column of $B$ is:\n",
    "$\n",
    "\\left[\n",
    "\\begin{matrix}\n",
    "    b_{1j}\\\\ \n",
    "    b_{2j}\\\\\n",
    "    \\vdots \\\\\n",
    "    b_{dj}\n",
    "\\end{matrix}\n",
    "\\right] \n",
    "$\n",
    "\n",
    "So, the dot product of these two vectors is:   $c_{ij} = a_{i1}b_{1j} + a_{i2}b_{2j} + \\dots + a_{id}b_{dj}$"
   ]
  },
  {
   "cell_type": "markdown",
   "id": "a77e695c",
   "metadata": {},
   "source": [
    " **<font color=red>DO THIS:</font>**  <font color='blue'> Write your own matrix multiplication function using the template below and compare it to the built-in matrix multiplication that can be found in ```numpy```. Your function should take two \"lists of lists\" as inputs and return the result as a third list of lists.  "
   ]
  },
  {
   "cell_type": "code",
   "execution_count": null,
   "id": "414db344",
   "metadata": {},
   "outputs": [],
   "source": [
    "##### DO NOT RUN THIS\n",
    "\n",
    "def multiply(m1,m2):\n",
    "    #first matrix is nxk in size\n",
    "    #second matrix is dxm in size\n",
    "    n = len(m1) \n",
    "    k = len(m1[0])\n",
    "    d = len(m2)\n",
    "    m = len(m2[0])\n",
    "    \n",
    "    #check to make sure sizes match\n",
    "    if k != d:\n",
    "        print(\"ERROR - inner dimensions not equal\")\n",
    "    else:\n",
    "        \n",
    "        return result"
   ]
  },
  {
   "cell_type": "markdown",
   "id": "c79db24d",
   "metadata": {},
   "source": [
    "Test your code with the following examples."
   ]
  },
  {
   "cell_type": "code",
   "execution_count": null,
   "id": "3c85f235",
   "metadata": {},
   "outputs": [],
   "source": [
    "#Basic test 1\n",
    "import random\n",
    "n = 3\n",
    "d = 2\n",
    "m = 4\n",
    "\n",
    "#generate two random matrices (lists of lists).\n",
    "matrix1 = [[random.randint(0,9) for i in range(d)] for j in range(n)]\n",
    "matrix2 = [[random.randint(-9,9) for i in range(m)] for j in range(d)]"
   ]
  },
  {
   "cell_type": "code",
   "execution_count": null,
   "id": "bb420756",
   "metadata": {},
   "outputs": [],
   "source": [
    "sym.init_printing(use_unicode=True) # Trick to make matrices look nice in jupyter\n",
    "sym.Matrix(matrix1) # Show matrix using sympy"
   ]
  },
  {
   "cell_type": "code",
   "execution_count": null,
   "id": "70b31a60",
   "metadata": {},
   "outputs": [],
   "source": [
    "sym.Matrix(matrix2) # Show matrix using sympy"
   ]
  },
  {
   "cell_type": "code",
   "execution_count": null,
   "id": "ae731a1b",
   "metadata": {},
   "outputs": [],
   "source": [
    "#Compute matrix multiply using your function\n",
    "x = multiply(matrix1, matrix2)\n",
    "sym.Matrix(x)"
   ]
  },
  {
   "cell_type": "code",
   "execution_count": null,
   "id": "b6ecf3fd",
   "metadata": {},
   "outputs": [],
   "source": [
    "#Compare to numpy result\n",
    "np_x = np.matrix(matrix1) @ np.matrix(matrix2)\n",
    "np_x\n",
    "\n",
    "#use allclose function to see if they are numrically \"close enough\"   #Result should be True\n",
    "\n",
    "#print(np.allclose(x, np_x))"
   ]
  },
  {
   "cell_type": "code",
   "execution_count": null,
   "id": "8823d023",
   "metadata": {},
   "outputs": [],
   "source": [
    "#Test identity matrix\n",
    "n = 4\n",
    "\n",
    "# Make a random Matrix\n",
    "matrix1 = [[random.random() for i in range(n)] for j in range(n)]\n",
    "sym.Matrix(matrix1) # Show matrix using sympy"
   ]
  },
  {
   "cell_type": "code",
   "execution_count": null,
   "id": "2c118d37",
   "metadata": {},
   "outputs": [],
   "source": [
    "#generate a 4x4 identity matrix\n",
    "matrix2 = [[0 for i in range(n)] for j in range(n)]\n",
    "for i in range(n):\n",
    "    matrix2[i][i] = 1\n",
    "sym.Matrix(matrix2) # Show matrix using sympy"
   ]
  },
  {
   "cell_type": "code",
   "execution_count": null,
   "id": "cbec8cf0",
   "metadata": {},
   "outputs": [],
   "source": [
    "result = multiply(matrix1, matrix2)\n",
    "\n",
    "#Verify results are the same as the original\n",
    "np.allclose(matrix1, result)"
   ]
  },
  {
   "cell_type": "markdown",
   "id": "8f2ee955",
   "metadata": {},
   "source": [
    "<font color='green'>**Comment**. For arrays there is a built-in function that gives us the dimensions of the matrix.\n",
    "```\n",
    "import numpy as np\n",
    "A=np.array([[1,2,3],[2,2,2]])\n",
    "print(A.shape[0]) #prints the number of rows\n",
    "2\n",
    "print(A.shape[1]) #prints the number of columns\n",
    "3\n",
    "```"
   ]
  },
  {
   "cell_type": "markdown",
   "id": "08ce338e",
   "metadata": {},
   "source": [
    "## 2. Transpose of a matrix\n",
    "\n",
    "The transpose of an $n\\times m$ matrix $A$ is the $m \\times n$ matrix $B$ such that $b_{ij}=a_{ji}$ and we denote it by $A^T$. \n",
    "\n",
    "<font color='blue'> **Example**. Create a function that gets an $n\\times m$ matrix (list of lists) and returns its transpose matrix, without numpy."
   ]
  },
  {
   "cell_type": "code",
   "execution_count": 7,
   "id": "23c882a2",
   "metadata": {},
   "outputs": [],
   "source": [
    "#Write your answer here.\n",
    "def transpose_matrix(matrix):\n",
    "   \n",
    "    return Transpose"
   ]
  },
  {
   "cell_type": "markdown",
   "id": "4da66091",
   "metadata": {},
   "source": [
    "<font color='blue'> **Example**. Calculate the transpose of the matrix $\\begin{bmatrix}\n",
    "1 & 2 & 3 & 4 \\\\\n",
    "5 & 6 & 7 & 8 \\\\\n",
    "\\end{bmatrix}$ using the function you created."
   ]
  },
  {
   "cell_type": "markdown",
   "id": "0320e64b",
   "metadata": {},
   "source": [
    "As usual, for arrays there are built-in functions that help us with these calculations. "
   ]
  },
  {
   "cell_type": "code",
   "execution_count": null,
   "id": "ac48ca29",
   "metadata": {},
   "outputs": [],
   "source": [
    "# Define a matrix\n",
    "mat = np.array([[1, 2, 3],\n",
    "                [4, 5, 6]])\n",
    "\n",
    "# Compute the transpose of the matrix using the .T attribute\n",
    "transpose_mat = ...\n",
    "\n",
    "sym.Matrix(transpose_mat)"
   ]
  },
  {
   "cell_type": "markdown",
   "id": "37d1e22e",
   "metadata": {},
   "source": [
    "## Before you close or submit this In-Class Assignment, please make sure of two things:\n",
    "- Did you save the file? `Ctrl + S` like everything else works!\n",
    "- Is the file in correct format? You need to submit this file in `.pdf` format. To do so, `Ctrl + P` and `Save as pdf` (on Windows) or `command + P` in mac.\n",
    "- If that does not work, please Google \"ipynb to pdf converter\" and that should do the job.\n",
    "- Are the pictures/images rendering correctly in the `.pdf` format?"
   ]
  }
 ],
 "metadata": {
  "kernelspec": {
   "display_name": "Python 3 (ipykernel)",
   "language": "python",
   "name": "python3"
  },
  "language_info": {
   "codemirror_mode": {
    "name": "ipython",
    "version": 3
   },
   "file_extension": ".py",
   "mimetype": "text/x-python",
   "name": "python",
   "nbconvert_exporter": "python",
   "pygments_lexer": "ipython3",
   "version": "3.9.12"
  }
 },
 "nbformat": 4,
 "nbformat_minor": 5
}
