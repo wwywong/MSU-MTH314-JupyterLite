{
 "cells": [
  {
   "cell_type": "markdown",
   "id": "8e075caa",
   "metadata": {},
   "source": [
    "# Linear systems "
   ]
  },
  {
   "cell_type": "markdown",
   "id": "c3e131df",
   "metadata": {},
   "source": [
    "<a name=\"Visualizing_the_problem\"></a>\n",
    "## 1.  Visualizing the problem\n",
    "We can visualize the solution to a system of linear equations in a graph. "
   ]
  },
  {
   "cell_type": "markdown",
   "id": "1f9faa55",
   "metadata": {},
   "source": [
    "### Matplotlib \n",
    "Matplotlib is one of the most widely used libraries in python. It is used from making graphs to pie charts. We will use it here mostly for plotting linear functions. It can be used of course to plot any function. First we need to import it:"
   ]
  },
  {
   "cell_type": "code",
   "execution_count": null,
   "id": "9769bfb5",
   "metadata": {},
   "outputs": [],
   "source": [
    "%matplotlib inline\n",
    "import matplotlib.pylab as plt\n",
    "import numpy as np"
   ]
  },
  {
   "cell_type": "markdown",
   "id": "a31b94e0",
   "metadata": {},
   "source": [
    "<font color='blue'> **Example**: Is the following system consistent? If yes, how many solutions does it have?\n",
    "    $$b+c=30$$\n",
    "    $$25b+20c=690$$ </font>\n",
    "    \n",
    "To answer that, let's look at the graph of the system using the following code:"
   ]
  },
  {
   "cell_type": "code",
   "execution_count": null,
   "id": "261dd95d",
   "metadata": {},
   "outputs": [],
   "source": [
    "c = np.linspace(0,20)\n",
    "\n",
    "b1 = 30-c\n",
    "b2 = "
   ]
  },
  {
   "cell_type": "code",
   "execution_count": null,
   "id": "3b208af0",
   "metadata": {},
   "outputs": [],
   "source": [
    "plt.plot(c,b1)\n",
    "plt.plot(c,b2)\n",
    "plt.xlabel('c ')\n",
    "plt.ylabel('b', rotation=0)"
   ]
  },
  {
   "cell_type": "markdown",
   "id": "33f665f0",
   "metadata": {},
   "source": [
    "\n",
    "<font color='blue'> **Example**: Is the following system consistent? If yes, how many solutions does it have?\n",
    "$$-2x+y=3$$\n",
    "$$-4x+2y=2$$\n",
    "Complete the following code to get your answer.\n"
   ]
  },
  {
   "cell_type": "code",
   "execution_count": null,
   "id": "35d99cd4",
   "metadata": {},
   "outputs": [],
   "source": [
    "x = np.linspace(-10,10)\n",
    "y1 = \n",
    "y2 = \n",
    "plt.plot(...)\n",
    "plt.plot(...);\n",
    "plt.xlabel('x ')\n",
    "plt.ylabel('y', rotation=0)"
   ]
  },
  {
   "cell_type": "markdown",
   "id": "88d6a0a9",
   "metadata": {},
   "source": [
    "<font color='blue'> **Example**: Is the following system consistent? If yes, how many solutions does it have?\n",
    "$$4x-2y=6$$\n",
    "$$6x-3y=9$$\n",
    "Complete the following code to get your answer."
   ]
  },
  {
   "cell_type": "code",
   "execution_count": null,
   "id": "91058543",
   "metadata": {},
   "outputs": [],
   "source": [
    "x = np.linspace(-10,10)\n",
    "y1 = \n",
    "y2 = \n",
    "plt.plot(...)\n",
    "plt.plot(...)"
   ]
  },
  {
   "cell_type": "markdown",
   "id": "56e62e64",
   "metadata": {},
   "source": [
    "<font color='blue'> **PROBLEM (BY HAND)**: Solve the following systems **by hand** using Gaussian (or Gauss-Jordan) Elimination Algorithm and import the photos of your work. How many solutions do the systems have?"
   ]
  },
  {
   "cell_type": "markdown",
   "id": "c77298a0",
   "metadata": {},
   "source": [
    "<font color='blue'>  $\\left\\{\n",
    "\\begin{array}{ll}\n",
    "     x_1- 3x_2 + 7x_3 = 0\\\\\n",
    "     -2 x_1 + x_2-4 x_3 =0\\\\\n",
    "     x_1+ 2x_2+9 x_3=0\\\\\n",
    "\\end{array} \n",
    "\\right.\\quad$"
   ]
  },
  {
   "cell_type": "code",
   "execution_count": null,
   "id": "ab24c05b",
   "metadata": {},
   "outputs": [],
   "source": []
  },
  {
   "cell_type": "markdown",
   "id": "31219014",
   "metadata": {},
   "source": [
    "<font color='blue'>  $\\left\\{\n",
    "\\begin{array}{ll}\n",
    "     5x_1+8x_2 + 7x_3 = 2\\\\\n",
    "      x_2- x_3 =-3\\\\\n",
    "     x_1+ 3x_2=2\\\\\n",
    "\\end{array} \n",
    "\\right.\\quad$"
   ]
  },
  {
   "cell_type": "code",
   "execution_count": null,
   "id": "26ff62f5",
   "metadata": {},
   "outputs": [],
   "source": []
  },
  {
   "cell_type": "markdown",
   "id": "98e3e89a",
   "metadata": {},
   "source": [
    "<font color='blue'>  $\\left\\{\n",
    "\\begin{array}{ll}\n",
    "     x_1+4x_2 -5x_3 = 0\\\\\n",
    "     2 x_1 - x_2+8 x_3 =9\\\\\n",
    "\\end{array} \n",
    "\\right.\\quad$"
   ]
  },
  {
   "cell_type": "code",
   "execution_count": null,
   "id": "6a6ac810",
   "metadata": {},
   "outputs": [],
   "source": []
  },
  {
   "cell_type": "markdown",
   "id": "5cc8ddb6",
   "metadata": {},
   "source": [
    "<font color='blue'> $\\left\\{\n",
    "\\begin{array}{ll}\n",
    "     3x_1+ 5x_2 -4x_3+ 3x_4 = 2\\\\\n",
    "     -3 x_1 -2x_2+4 x_3-3 x_4 =2\\\\\n",
    "     6x_1+ x_2-8 x_3+6 x_4 =-8\\\\\n",
    "\\end{array} \n",
    "\\right.\\quad$"
   ]
  },
  {
   "cell_type": "code",
   "execution_count": null,
   "id": "8d410113",
   "metadata": {},
   "outputs": [],
   "source": []
  },
  {
   "cell_type": "markdown",
   "id": "89f16639",
   "metadata": {},
   "source": [
    "## 2.  Row reduction using python"
   ]
  },
  {
   "cell_type": "markdown",
   "id": "e564ddc5",
   "metadata": {},
   "source": [
    "### Sympy RREF function"
   ]
  },
  {
   "cell_type": "markdown",
   "id": "af7b849d",
   "metadata": {},
   "source": [
    "The Python ``sympy`` library has a \"reduced row echelon form\" (rref) function that runs a much more efficient version of the Gauss elimination. To use the rref function you must first convert your matrix into a ``sympy.Matrix`` and then run the function. For example, let's do this for the following matrix $B$:"
   ]
  },
  {
   "cell_type": "code",
   "execution_count": null,
   "id": "323ca1c4",
   "metadata": {},
   "outputs": [],
   "source": [
    "import sympy as sym\n",
    "import numpy as np\n",
    "\n",
    "B =np.array([[ 50, 13, 30 ], [100, 26, 60 ],  [20.5, 25, 650]])\n",
    "sym.Matrix(B).rref()[0]"
   ]
  },
  {
   "cell_type": "markdown",
   "id": "386fd436",
   "metadata": {},
   "source": [
    "**Comment:** Sometimes the above command would not give the correct RREF becuase of the approximations; this is numerically unstable. We can correct it, by extending the tolerance: For some matrix $E$,\n",
    "```\n",
    "E = sym.Matrix(E)\n",
    "rref_E = E.rref(iszerofunc=lambda x: abs(x) < 10**-10)\n",
    "rref_E[0]\n",
    "```"
   ]
  },
  {
   "cell_type": "markdown",
   "id": "bff4697a",
   "metadata": {},
   "source": [
    "<font color='blue'> **Example**: By row reducing the following augmented matrices, decide whether the systems have solutions or not. If they have, how many do they have? Find the solutions by interpretting the RREF, if they exist."
   ]
  },
  {
   "cell_type": "markdown",
   "id": "2f3c4648",
   "metadata": {},
   "source": [
    "<font color='blue'> (a) $\\left[\\begin{matrix} 1 & -3& 7\\\\ -2& 1& -4 \\\\ 1& 2& 9\\end{matrix} \\middle\\vert \\begin{matrix} 0 \\\\ 0\\\\ 0\\end{matrix} \\right]$"
   ]
  },
  {
   "cell_type": "code",
   "execution_count": null,
   "id": "9a80e036",
   "metadata": {},
   "outputs": [],
   "source": [
    "#put your answer here"
   ]
  },
  {
   "cell_type": "markdown",
   "id": "cf7d293a",
   "metadata": {},
   "source": [
    "<font color='blue'> (b) $\\left[\\begin{matrix} 5 & 8 & 7\\\\ 0& 1& -1 \\\\ 1& 3& 0\\end{matrix} \\middle\\vert \\begin{matrix} 2 \\\\ -3\\\\ 2\\end{matrix} \\right]$"
   ]
  },
  {
   "cell_type": "code",
   "execution_count": null,
   "id": "492d31b9",
   "metadata": {},
   "outputs": [],
   "source": [
    "# put your answer here"
   ]
  },
  {
   "cell_type": "markdown",
   "id": "92e353d6",
   "metadata": {},
   "source": [
    "<font color='blue'> (c) $\\left[\\begin{matrix} 1 & 4& -5\\\\ 2& -1& 8 \\end{matrix} \\middle\\vert \\begin{matrix} 0 \\\\ 9\\end{matrix} \\right]$"
   ]
  },
  {
   "cell_type": "code",
   "execution_count": null,
   "id": "77d24e24",
   "metadata": {},
   "outputs": [],
   "source": [
    "# put your answer here"
   ]
  },
  {
   "cell_type": "markdown",
   "id": "9de8f6bf",
   "metadata": {},
   "source": [
    "<font color='blue'> (d) $\\left[\\begin{matrix} 1 & 2& 1\\\\ -3& -1& 2 \\\\ 0& 5& 3\\end{matrix} \\middle\\vert \\begin{matrix} 0 \\\\ 1\\\\ -1\\end{matrix} \\right]$"
   ]
  },
  {
   "cell_type": "code",
   "execution_count": null,
   "id": "4015e979",
   "metadata": {},
   "outputs": [],
   "source": [
    "# put your answer here"
   ]
  },
  {
   "cell_type": "markdown",
   "id": "4f6653cf",
   "metadata": {},
   "source": [
    "<font color='blue'> (e) $\\left[\\begin{matrix} 1 & 3& -3& 7\\\\ 0& 1& -4 &5\\end{matrix} \\middle\\vert \\begin{matrix} 0 \\\\ 0\\end{matrix} \\right]$"
   ]
  },
  {
   "cell_type": "code",
   "execution_count": null,
   "id": "b99879f0",
   "metadata": {},
   "outputs": [],
   "source": [
    "# put your answer here"
   ]
  },
  {
   "cell_type": "markdown",
   "id": "8aef7c87",
   "metadata": {},
   "source": [
    "### The Investment Portfolio:\n",
    "\n",
    "Ricky invested his money in three types of financial instruments: stocks, bonds, and real estate. He decided to invest $100,000 in these three categories. The returns on investment for each category are as follows:\n",
    "\n",
    "    -For every dollar invested in stocks, he gains $3 in return.\n",
    "    \n",
    "    -Bonds yield a return of $2 for every dollar invested.\n",
    "    \n",
    "    -Real estate provides a return of $5 for every dollar invested.\n",
    "\n",
    "After a year, Ricky earned a total of $455,000 in returns. However, he does not remember the exact amount invested in each category. He does remember that his investment in stocks was three times that in bonds. Can you help him figure it out?"
   ]
  },
  {
   "cell_type": "code",
   "execution_count": 1,
   "id": "f0ba5a7f",
   "metadata": {},
   "outputs": [],
   "source": [
    "# create a linear system using augmented matrix, find rref, solve and interpret"
   ]
  },
  {
   "cell_type": "markdown",
   "id": "4f03ef16",
   "metadata": {},
   "source": [
    "### Solving linear systems with python\n",
    "\n",
    "For the above problem, we used python to reduce our matrix to RREF and from there deduce, by hand, if the system has solutions or not. In certain problems, python can immediately feed us with the solution (or the lack of it). For theses problems, the **matrix of coefficients** needs to be **square** (number of rows equals the number of columns), which means the linear systems have the number of equations the same as the number of variables, and it has to staisfy certain **nice** properties that we will learn later. For example we can immediately get:\n",
    "```\n",
    "import numpy as np\n",
    "A = np.array([[1, 2, 3], [4, 5, 6], [7, 8, 9]])\n",
    "b = np.array([1, 2, 3])\n",
    "x = np.linalg.solve(A, b)\n",
    "print(x)\n",
    "[-0.23333333  0.46666667  0.1]\n",
    "```"
   ]
  },
  {
   "cell_type": "markdown",
   "id": "698df743",
   "metadata": {},
   "source": [
    "## 3. More applications"
   ]
  },
  {
   "cell_type": "markdown",
   "id": "07488035",
   "metadata": {},
   "source": [
    "### 3a. Is a vector a linear combination of others?"
   ]
  },
  {
   "cell_type": "markdown",
   "id": "17633d31",
   "metadata": {},
   "source": [
    "\"Is the vector $z$ a linear combination of the vectrors $x$ and $y$?\"\n",
    "\n",
    "This question is equivalent to \"Does there exist constants $c_1$ and $c_2$ such that $z=c_1x+c_2y$?\""
   ]
  },
  {
   "cell_type": "markdown",
   "id": "eed33387",
   "metadata": {},
   "source": [
    "<font color='blue'> **Example**  Is the vector $\\begin{bmatrix}1 \\\\ -4\\end{bmatrix}$ a linear combination of the vectors $\\begin{bmatrix}-1 \\\\ 2\\end{bmatrix}$ and $\\begin{bmatrix}3 \\\\ -4\\end{bmatrix}$? "
   ]
  },
  {
   "cell_type": "code",
   "execution_count": null,
   "id": "4f0e13f2",
   "metadata": {},
   "outputs": [],
   "source": [
    "# set up a system and solve it"
   ]
  },
  {
   "cell_type": "markdown",
   "id": "f0dedb4e",
   "metadata": {},
   "source": [
    "**<span style=\"color:red\">Do This:</span>** Run the following two cells. This will generate a widget with two sliders to select values for $c_1$ and $c_2$. The widget will plot: \n",
    "* the vector $c_1\\vec{u}$ (a scalar multiple of $\\vec{u}$) in blue with the \"tail\" at the origin\n",
    "* the vector $c_2\\vec{v}$ (a scalar multiple of $\\vec{v}$) in red with the \"tail\" at the \"tip\" of the vector $c_1\\vec{u}$,\n",
    "* the target vector $\\vec{w}$ in purple with the \"tail\" at the origin\n",
    "\n",
    "By plotting the vectors $c_1\\vec{u}$ and $c_2\\vec{v}$ in the manner above (i.e. \"tip to tail\"), the sum of the two vectors, i.e. $c_1\\vec{u}+c_2\\vec{v}$ is the vector from the \"tail\" of the vector $c_1\\vec{u}$ to the \"tip\" of the vector $y\\vec{v}$. So if $c_1\\vec{u}+c_2\\vec{v} = \\vec{w}$, the tip of the red vector will coincide with the tip of the purple vector.''\n",
    "\n",
    "Set the values for the sliders for $c_1$ and $c_2$ such that $c_1\\vec{u}+c_2\\vec{v} = \\vec{w}$, i.e. $c_1\\begin{bmatrix}-1 \\\\ 2\\end{bmatrix} + c_2\\begin{bmatrix}3 \\\\ -4\\end{bmatrix} = \\begin{bmatrix}1 \\\\ -4\\end{bmatrix}$."
   ]
  },
  {
   "cell_type": "code",
   "execution_count": null,
   "id": "25dee062",
   "metadata": {},
   "outputs": [],
   "source": [
    "import ipywidgets as widgets\n",
    "from ipywidgets import interact\n",
    "%matplotlib inline\n",
    "import matplotlib.pylab as plt\n",
    "import numpy as np\n",
    "\n",
    "def plot_vector(start, end, color):\n",
    "    tip_width = 0.4\n",
    "    tip_length = 0.5\n",
    "    # Scaling needed so that the tip of the arrow ends at the vector\n",
    "    vec_length = np.linalg.norm(end - start)\n",
    "    if vec_length != 0:\n",
    "        end_tip = end * (vec_length - tip_length) / vec_length\n",
    "    else:\n",
    "        end_tip = start\n",
    "        tip_width = 0\n",
    "        tip_length = 0\n",
    "    plt.arrow(start[0], start[1], end_tip[0], end_tip[1],\n",
    "              head_width=tip_width, head_length=tip_length, fc=color, ec=color)\n",
    "\n",
    "def column_picture(u, v, target, step=0.5):\n",
    "    min_x, max_x = -5.0, 5.0\n",
    "    min_y, max_y = -5.0, 5.0\n",
    "\n",
    "\n",
    "    def plot_linear_combination(x, y):\n",
    "        plt.figure(figsize=(9,9))\n",
    "        # Set bounds of plot\n",
    "        plt.axis('equal')\n",
    "        plt.axis([abs(u[0]) * min_x + abs(v[0]) * min_y, abs(u[0]) * max_x + abs(v[0]) * max_y,\n",
    "                  abs(u[1]) * min_x +abs(v[1]) * min_y, abs(u[1]) * max_x + abs(v[1]) * max_y])\n",
    "        plot_vector(np.zeros(2), x * u, color='blue')\n",
    "        plot_vector(x * u, y * v, color='red')\n",
    "        plot_vector(np.zeros(2), target, color='purple')\n",
    "        plt.title(f'{x}*u + {y}*v = {x * u + y * v}')\n",
    "\n",
    "    interact(plot_linear_combination,\n",
    "             x=widgets.FloatSlider(value=1.0, min=min_x, max=max_x, step=step),\n",
    "             y=widgets.FloatSlider(value=1.0, min=min_y, max=max_y, step=step))"
   ]
  },
  {
   "cell_type": "code",
   "execution_count": null,
   "id": "d7b81208",
   "metadata": {
    "scrolled": true
   },
   "outputs": [],
   "source": [
    "u = np.array([-1, 2])\n",
    "v = np.array([3, -4])\n",
    "target = np.array([1, -4])\n",
    "column_picture(u, v, target)"
   ]
  },
  {
   "cell_type": "markdown",
   "id": "9a6e2601",
   "metadata": {},
   "source": [
    "<font color='blue'> **Example**: Answer the following questions: \\\n",
    "(a) Can the vector $\\begin{bmatrix}5 \\\\ 5\\end{bmatrix}$ be written as a linear combination of the vectors $\\begin{bmatrix}-1 \\\\ 2\\end{bmatrix}$ and $\\begin{bmatrix}3 \\\\ -6\\end{bmatrix}$? \\\n",
    "(b) Do the vectors $\\begin{bmatrix}-1 \\\\ 2\\end{bmatrix}$ and $\\begin{bmatrix}3 \\\\ -6\\end{bmatrix}$ span a plane? \\\n",
    "(c) Are there values of $x$ and $y$ that satisfy both of the equations $-x + 3y = 5$ and $2x - 6y = 5$? "
   ]
  },
  {
   "cell_type": "code",
   "execution_count": null,
   "id": "ab5e425b",
   "metadata": {},
   "outputs": [],
   "source": [
    "#put your answer here (no use of the widget here)"
   ]
  },
  {
   "cell_type": "markdown",
   "id": "5a0b89ef",
   "metadata": {},
   "source": [
    "\n",
    "\n",
    "Now let's visualize the problem by running the following cell to generate a similar widget as before, but this time, with $\\vec{w} = \\begin{bmatrix}5 \\\\ 5\\end{bmatrix}$. Again, select values for $x$ and $y$ so that $$x\\begin{bmatrix}-1 \\\\ 2\\end{bmatrix} + y\\begin{bmatrix}3 \\\\ -6\\end{bmatrix} = \\begin{bmatrix}5 \\\\ 5\\end{bmatrix} \\implies \\begin{align}-x + 3y &= 5\\\\2x - 6y &= 5\\end{align}$$"
   ]
  },
  {
   "cell_type": "code",
   "execution_count": null,
   "id": "e35eea73",
   "metadata": {},
   "outputs": [],
   "source": [
    "u = np.array([-1, 2])\n",
    "v = np.array([3, -6])\n",
    "target = np.array(....)\n",
    "column_picture(u, v, target)"
   ]
  },
  {
   "cell_type": "markdown",
   "id": "e8e89ba9",
   "metadata": {},
   "source": [
    "<font color='blue'> **Example**:  Can the vector $\\begin{bmatrix}3 \\\\ -2\\\\1\\end{bmatrix}$ be expressed as a linear combination of the vectors $\\begin{bmatrix}2 \\\\ 2\\\\1\\end{bmatrix}$ and $\\begin{bmatrix}1 \\\\ 3\\\\-2\\end{bmatrix}$? "
   ]
  },
  {
   "cell_type": "code",
   "execution_count": null,
   "id": "2f831a50",
   "metadata": {},
   "outputs": [],
   "source": [
    "#put your answers here, justifying them "
   ]
  },
  {
   "cell_type": "markdown",
   "id": "3912239c",
   "metadata": {},
   "source": [
    "### 3b. Is a vector in a plane spanned by other vectors?\n",
    "\n",
    "The previous example can be seen as follows. Given two vectors $\\vec{u},\\vec{v}$ that span a plane, is a third vector $\\vec{w}$ on that plane? If $\\vec{w}$ can be written as a linear combination of the other two the answer is yes, otherwise no. Let's see the following example."
   ]
  },
  {
   "cell_type": "markdown",
   "id": "5518f422",
   "metadata": {},
   "source": [
    "<font color='blue'> **Example**:  Let $a_1=\\begin{bmatrix} 1\\\\-2\\\\3 \\end{bmatrix} $,  $a_2=\\begin{bmatrix} 5\\\\-13\\\\-3 \\end{bmatrix} $ and  $b=\\begin{bmatrix} -3\\\\8\\\\1\\end{bmatrix}$. Then span$\\{a_1, a_2\\}$ is a plane. Does $b$ belong in this plane?   "
   ]
  },
  {
   "cell_type": "code",
   "execution_count": null,
   "id": "c4338b16",
   "metadata": {},
   "outputs": [],
   "source": [
    "# put your anwer here. Hint: Solve a system by first row reducing it"
   ]
  },
  {
   "cell_type": "markdown",
   "id": "24921c95",
   "metadata": {},
   "source": [
    "### 3c. Linearly Independent vectors"
   ]
  },
  {
   "cell_type": "markdown",
   "id": "e9c5cd46",
   "metadata": {},
   "source": [
    "**Definition**: The vectors $v_1, v_2, \\dots v_p$ are called **linearly independent** if the vector equation\n",
    "$$\n",
    "x_1v_1+x_2 v_2+ \\dots+ x_p v_p=0\n",
    "$$\n",
    "has **only** the trivial solution, i.e. $x_1=x_2=\\dots=x_p=0$.\n",
    "\n",
    "These vectors are called **linearly dependent**, if there is at least one $x_j\\neq 0$ such that $x_1v_1+x_2 v_2+ \\dots+ x_p v_p=0$."
   ]
  },
  {
   "cell_type": "markdown",
   "id": "8d0eeb66",
   "metadata": {},
   "source": [
    "<font color='blue'> **Example**: Check whether the following vectors are linearly independent:\n",
    "$\\begin{bmatrix} 1\\\\2\\\\3 \\end{bmatrix} $,  $\\begin{bmatrix} 4\\\\5\\\\6 \\end{bmatrix} $ and  $\\begin{bmatrix} 2\\\\1\\\\0\\end{bmatrix} $"
   ]
  },
  {
   "cell_type": "code",
   "execution_count": null,
   "id": "3765e7a2",
   "metadata": {},
   "outputs": [],
   "source": [
    "# put your answer here. Hint: Solve a system by first row reducing it"
   ]
  },
  {
   "cell_type": "markdown",
   "id": "79354139",
   "metadata": {},
   "source": [
    "<font color='blue'> **Example**: Determine if the columns of the matrix $\\begin{bmatrix} 0&1&4\\\\1&2&-1\\\\5&8&0 \\end{bmatrix} $ are linearly independent."
   ]
  },
  {
   "cell_type": "code",
   "execution_count": null,
   "id": "a32aea66",
   "metadata": {},
   "outputs": [],
   "source": [
    "# put your answer here. Hint: Solve a system by first row reducing it"
   ]
  },
  {
   "cell_type": "markdown",
   "id": "73a2c287",
   "metadata": {},
   "source": [
    "<font color='blue'> **Example**: <font color='blue'> Consider the following system \n",
    "    \n",
    "<font color='blue'>$\\begin{bmatrix}     1 & -4 & 8   & 1\\\\\n",
    "                    -1 & 4  & -8  & 4  \\\\    \n",
    "                    -2 & 10 & -17 & 1  \\\\   \n",
    "                    \\end{bmatrix}    \\begin{bmatrix}    x_1 \\\\\n",
    "                    x_2  \\\\    \n",
    "                     x_3  \\\\ \n",
    "                     x_4\n",
    "                    \\end{bmatrix}  =    \\begin{bmatrix}    b_1 \\\\\n",
    "                    b_2  \\\\    \n",
    "                     b_3  \\\\   \n",
    "                    \\end{bmatrix}  $, where $b_1, b_2, b_3$ are some real numbers. \n",
    "                    \n",
    "<font color='blue'> (a) Write down the row echelon form of the **coefficient** matrix of the system."
   ]
  },
  {
   "cell_type": "code",
   "execution_count": null,
   "id": "c438a93c",
   "metadata": {},
   "outputs": [],
   "source": [
    "#put your answer here"
   ]
  },
  {
   "cell_type": "markdown",
   "id": "f4cb2904",
   "metadata": {},
   "source": [
    "<font color='blue'>(b) By looking at the above row echelon form, is the system consistent? If yes, why? If not, why not?"
   ]
  },
  {
   "cell_type": "code",
   "execution_count": null,
   "id": "38ce3fd5",
   "metadata": {},
   "outputs": [],
   "source": [
    "#put your answer here"
   ]
  },
  {
   "cell_type": "markdown",
   "id": "b3fb95d7",
   "metadata": {},
   "source": [
    "<font color='blue'>(c) How many solutions are there? Justify your answer."
   ]
  },
  {
   "cell_type": "code",
   "execution_count": null,
   "id": "98ff07fe",
   "metadata": {},
   "outputs": [],
   "source": [
    "#put your answer here"
   ]
  },
  {
   "cell_type": "markdown",
   "id": "f7b97613",
   "metadata": {},
   "source": [
    "## Before you close or submit this In-Class Assignment, please make sure of two things:\n",
    "- Did you save the file? `Ctrl + S` like everything else works!\n",
    "- Is the file in correct format? You need to submit this file in `.pdf` format. To do so, `Ctrl + P` and `Save as pdf` (on Windows) or `command + P` in mac.\n",
    "- Are the pictures/images rendering correctly in the `.pdf` format?"
   ]
  }
 ],
 "metadata": {
  "kernelspec": {
   "display_name": "Python 3 (ipykernel)",
   "language": "python",
   "name": "python3"
  },
  "language_info": {
   "codemirror_mode": {
    "name": "ipython",
    "version": 3
   },
   "file_extension": ".py",
   "mimetype": "text/x-python",
   "name": "python",
   "nbconvert_exporter": "python",
   "pygments_lexer": "ipython3",
   "version": "3.11.5"
  }
 },
 "nbformat": 4,
 "nbformat_minor": 5
}
